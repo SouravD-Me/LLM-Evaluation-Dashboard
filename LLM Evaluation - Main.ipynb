{
 "cells": [
  {
   "cell_type": "code",
   "execution_count": 14,
   "metadata": {},
   "outputs": [
    {
     "name": "stdout",
     "output_type": "stream",
     "text": [
      "Requirement already satisfied: transformers in c:\\users\\soura\\appdata\\local\\programs\\python\\python311\\lib\\site-packages (4.26.1)\n",
      "Requirement already satisfied: torch in c:\\users\\soura\\appdata\\local\\programs\\python\\python311\\lib\\site-packages (2.1.2)\n",
      "Requirement already satisfied: matplotlib in c:\\users\\soura\\appdata\\local\\programs\\python\\python311\\lib\\site-packages (3.8.2)\n",
      "Requirement already satisfied: seaborn in c:\\users\\soura\\appdata\\local\\programs\\python\\python311\\lib\\site-packages (0.13.0)\n",
      "Requirement already satisfied: pandas in c:\\users\\soura\\appdata\\local\\programs\\python\\python311\\lib\\site-packages (1.5.3)\n",
      "Requirement already satisfied: filelock in c:\\users\\soura\\appdata\\local\\programs\\python\\python311\\lib\\site-packages (from transformers) (3.9.0)\n",
      "Requirement already satisfied: huggingface-hub<1.0,>=0.11.0 in c:\\users\\soura\\appdata\\local\\programs\\python\\python311\\lib\\site-packages (from transformers) (0.20.1)\n",
      "Requirement already satisfied: numpy>=1.17 in c:\\users\\soura\\appdata\\local\\programs\\python\\python311\\lib\\site-packages (from transformers) (1.24.2)\n",
      "Requirement already satisfied: packaging>=20.0 in c:\\users\\soura\\appdata\\roaming\\python\\python311\\site-packages (from transformers) (23.2)\n",
      "Requirement already satisfied: pyyaml>=5.1 in c:\\users\\soura\\appdata\\local\\programs\\python\\python311\\lib\\site-packages (from transformers) (6.0)\n",
      "Requirement already satisfied: regex!=2019.12.17 in c:\\users\\soura\\appdata\\local\\programs\\python\\python311\\lib\\site-packages (from transformers) (2022.10.31)\n",
      "Requirement already satisfied: requests in c:\\users\\soura\\appdata\\local\\programs\\python\\python311\\lib\\site-packages (from transformers) (2.28.0)\n",
      "Requirement already satisfied: tokenizers!=0.11.3,<0.14,>=0.11.1 in c:\\users\\soura\\appdata\\local\\programs\\python\\python311\\lib\\site-packages (from transformers) (0.13.2)\n",
      "Requirement already satisfied: tqdm>=4.27 in c:\\users\\soura\\appdata\\local\\programs\\python\\python311\\lib\\site-packages (from transformers) (4.65.0)\n",
      "Requirement already satisfied: typing-extensions in c:\\users\\soura\\appdata\\local\\programs\\python\\python311\\lib\\site-packages (from torch) (4.5.0)\n",
      "Requirement already satisfied: sympy in c:\\users\\soura\\appdata\\local\\programs\\python\\python311\\lib\\site-packages (from torch) (1.12)\n",
      "Requirement already satisfied: networkx in c:\\users\\soura\\appdata\\local\\programs\\python\\python311\\lib\\site-packages (from torch) (3.2.1)\n",
      "Requirement already satisfied: jinja2 in c:\\users\\soura\\appdata\\local\\programs\\python\\python311\\lib\\site-packages (from torch) (3.1.2)\n",
      "Requirement already satisfied: fsspec in c:\\users\\soura\\appdata\\local\\programs\\python\\python311\\lib\\site-packages (from torch) (2023.10.0)\n",
      "Requirement already satisfied: contourpy>=1.0.1 in c:\\users\\soura\\appdata\\local\\programs\\python\\python311\\lib\\site-packages (from matplotlib) (1.2.0)\n",
      "Requirement already satisfied: cycler>=0.10 in c:\\users\\soura\\appdata\\local\\programs\\python\\python311\\lib\\site-packages (from matplotlib) (0.12.1)\n",
      "Requirement already satisfied: fonttools>=4.22.0 in c:\\users\\soura\\appdata\\local\\programs\\python\\python311\\lib\\site-packages (from matplotlib) (4.47.0)\n",
      "Requirement already satisfied: kiwisolver>=1.3.1 in c:\\users\\soura\\appdata\\local\\programs\\python\\python311\\lib\\site-packages (from matplotlib) (1.4.5)\n",
      "Requirement already satisfied: pillow>=8 in c:\\users\\soura\\appdata\\local\\programs\\python\\python311\\lib\\site-packages (from matplotlib) (9.4.0)\n",
      "Requirement already satisfied: pyparsing>=2.3.1 in c:\\users\\soura\\appdata\\local\\programs\\python\\python311\\lib\\site-packages (from matplotlib) (3.1.1)\n",
      "Requirement already satisfied: python-dateutil>=2.7 in c:\\users\\soura\\appdata\\roaming\\python\\python311\\site-packages (from matplotlib) (2.8.2)\n",
      "Requirement already satisfied: pytz>=2020.1 in c:\\users\\soura\\appdata\\local\\programs\\python\\python311\\lib\\site-packages (from pandas) (2022.7.1)\n",
      "Requirement already satisfied: six>=1.5 in c:\\users\\soura\\appdata\\roaming\\python\\python311\\site-packages (from python-dateutil>=2.7->matplotlib) (1.16.0)\n",
      "Requirement already satisfied: colorama in c:\\users\\soura\\appdata\\roaming\\python\\python311\\site-packages (from tqdm>=4.27->transformers) (0.4.6)\n",
      "Requirement already satisfied: MarkupSafe>=2.0 in c:\\users\\soura\\appdata\\local\\programs\\python\\python311\\lib\\site-packages (from jinja2->torch) (2.1.2)\n",
      "Requirement already satisfied: charset-normalizer~=2.0.0 in c:\\users\\soura\\appdata\\local\\programs\\python\\python311\\lib\\site-packages (from requests->transformers) (2.0.12)\n",
      "Requirement already satisfied: idna<4,>=2.5 in c:\\users\\soura\\appdata\\local\\programs\\python\\python311\\lib\\site-packages (from requests->transformers) (3.3)\n",
      "Requirement already satisfied: urllib3<1.27,>=1.21.1 in c:\\users\\soura\\appdata\\local\\programs\\python\\python311\\lib\\site-packages (from requests->transformers) (1.26.9)\n",
      "Requirement already satisfied: certifi>=2017.4.17 in c:\\users\\soura\\appdata\\local\\programs\\python\\python311\\lib\\site-packages (from requests->transformers) (2022.6.15)\n",
      "Requirement already satisfied: mpmath>=0.19 in c:\\users\\soura\\appdata\\local\\programs\\python\\python311\\lib\\site-packages (from sympy->torch) (1.3.0)\n",
      "Note: you may need to restart the kernel to use updated packages.\n"
     ]
    },
    {
     "name": "stderr",
     "output_type": "stream",
     "text": [
      "\n",
      "[notice] A new release of pip is available: 23.2.1 -> 24.0\n",
      "[notice] To update, run: python.exe -m pip install --upgrade pip\n"
     ]
    }
   ],
   "source": [
    "%pip install transformers torch matplotlib seaborn pandas"
   ]
  },
  {
   "cell_type": "code",
   "execution_count": 15,
   "metadata": {},
   "outputs": [
    {
     "name": "stdout",
     "output_type": "stream",
     "text": [
      "Requirement already satisfied: dash in c:\\users\\soura\\appdata\\local\\programs\\python\\python311\\lib\\site-packages (2.14.2)\n",
      "Requirement already satisfied: transformers in c:\\users\\soura\\appdata\\local\\programs\\python\\python311\\lib\\site-packages (4.26.1)\n",
      "Requirement already satisfied: Flask<3.1,>=1.0.4 in c:\\users\\soura\\appdata\\local\\programs\\python\\python311\\lib\\site-packages (from dash) (2.3.3)\n",
      "Requirement already satisfied: Werkzeug<3.1 in c:\\users\\soura\\appdata\\local\\programs\\python\\python311\\lib\\site-packages (from dash) (3.0.1)\n",
      "Requirement already satisfied: plotly>=5.0.0 in c:\\users\\soura\\appdata\\local\\programs\\python\\python311\\lib\\site-packages (from dash) (5.18.0)\n",
      "Requirement already satisfied: dash-html-components==2.0.0 in c:\\users\\soura\\appdata\\local\\programs\\python\\python311\\lib\\site-packages (from dash) (2.0.0)\n",
      "Requirement already satisfied: dash-core-components==2.0.0 in c:\\users\\soura\\appdata\\local\\programs\\python\\python311\\lib\\site-packages (from dash) (2.0.0)\n",
      "Requirement already satisfied: dash-table==5.0.0 in c:\\users\\soura\\appdata\\local\\programs\\python\\python311\\lib\\site-packages (from dash) (5.0.0)\n",
      "Requirement already satisfied: typing-extensions>=4.1.1 in c:\\users\\soura\\appdata\\local\\programs\\python\\python311\\lib\\site-packages (from dash) (4.5.0)\n",
      "Requirement already satisfied: requests in c:\\users\\soura\\appdata\\local\\programs\\python\\python311\\lib\\site-packages (from dash) (2.28.0)\n",
      "Requirement already satisfied: retrying in c:\\users\\soura\\appdata\\local\\programs\\python\\python311\\lib\\site-packages (from dash) (1.3.4)\n",
      "Requirement already satisfied: ansi2html in c:\\users\\soura\\appdata\\local\\programs\\python\\python311\\lib\\site-packages (from dash) (1.9.1)\n",
      "Requirement already satisfied: nest-asyncio in c:\\users\\soura\\appdata\\roaming\\python\\python311\\site-packages (from dash) (1.5.8)\n",
      "Requirement already satisfied: setuptools in c:\\users\\soura\\appdata\\local\\programs\\python\\python311\\lib\\site-packages (from dash) (65.5.0)\n",
      "Requirement already satisfied: importlib-metadata in c:\\users\\soura\\appdata\\local\\programs\\python\\python311\\lib\\site-packages (from dash) (6.0.0)\n",
      "Requirement already satisfied: filelock in c:\\users\\soura\\appdata\\local\\programs\\python\\python311\\lib\\site-packages (from transformers) (3.9.0)\n",
      "Requirement already satisfied: huggingface-hub<1.0,>=0.11.0 in c:\\users\\soura\\appdata\\local\\programs\\python\\python311\\lib\\site-packages (from transformers) (0.20.1)\n",
      "Requirement already satisfied: numpy>=1.17 in c:\\users\\soura\\appdata\\local\\programs\\python\\python311\\lib\\site-packages (from transformers) (1.24.2)\n",
      "Requirement already satisfied: packaging>=20.0 in c:\\users\\soura\\appdata\\roaming\\python\\python311\\site-packages (from transformers) (23.2)\n",
      "Requirement already satisfied: pyyaml>=5.1 in c:\\users\\soura\\appdata\\local\\programs\\python\\python311\\lib\\site-packages (from transformers) (6.0)\n",
      "Requirement already satisfied: regex!=2019.12.17 in c:\\users\\soura\\appdata\\local\\programs\\python\\python311\\lib\\site-packages (from transformers) (2022.10.31)\n",
      "Requirement already satisfied: tokenizers!=0.11.3,<0.14,>=0.11.1 in c:\\users\\soura\\appdata\\local\\programs\\python\\python311\\lib\\site-packages (from transformers) (0.13.2)\n",
      "Requirement already satisfied: tqdm>=4.27 in c:\\users\\soura\\appdata\\local\\programs\\python\\python311\\lib\\site-packages (from transformers) (4.65.0)\n",
      "Requirement already satisfied: Jinja2>=3.1.2 in c:\\users\\soura\\appdata\\local\\programs\\python\\python311\\lib\\site-packages (from Flask<3.1,>=1.0.4->dash) (3.1.2)\n",
      "Requirement already satisfied: itsdangerous>=2.1.2 in c:\\users\\soura\\appdata\\local\\programs\\python\\python311\\lib\\site-packages (from Flask<3.1,>=1.0.4->dash) (2.1.2)\n",
      "Requirement already satisfied: click>=8.1.3 in c:\\users\\soura\\appdata\\local\\programs\\python\\python311\\lib\\site-packages (from Flask<3.1,>=1.0.4->dash) (8.1.3)\n",
      "Requirement already satisfied: blinker>=1.6.2 in c:\\users\\soura\\appdata\\local\\programs\\python\\python311\\lib\\site-packages (from Flask<3.1,>=1.0.4->dash) (1.7.0)\n",
      "Requirement already satisfied: fsspec>=2023.5.0 in c:\\users\\soura\\appdata\\local\\programs\\python\\python311\\lib\\site-packages (from huggingface-hub<1.0,>=0.11.0->transformers) (2023.10.0)\n",
      "Requirement already satisfied: tenacity>=6.2.0 in c:\\users\\soura\\appdata\\local\\programs\\python\\python311\\lib\\site-packages (from plotly>=5.0.0->dash) (8.2.3)\n",
      "Requirement already satisfied: colorama in c:\\users\\soura\\appdata\\roaming\\python\\python311\\site-packages (from tqdm>=4.27->transformers) (0.4.6)\n",
      "Requirement already satisfied: MarkupSafe>=2.1.1 in c:\\users\\soura\\appdata\\local\\programs\\python\\python311\\lib\\site-packages (from Werkzeug<3.1->dash) (2.1.2)\n",
      "Requirement already satisfied: zipp>=0.5 in c:\\users\\soura\\appdata\\local\\programs\\python\\python311\\lib\\site-packages (from importlib-metadata->dash) (3.15.0)\n",
      "Requirement already satisfied: charset-normalizer~=2.0.0 in c:\\users\\soura\\appdata\\local\\programs\\python\\python311\\lib\\site-packages (from requests->dash) (2.0.12)\n",
      "Requirement already satisfied: idna<4,>=2.5 in c:\\users\\soura\\appdata\\local\\programs\\python\\python311\\lib\\site-packages (from requests->dash) (3.3)\n",
      "Requirement already satisfied: urllib3<1.27,>=1.21.1 in c:\\users\\soura\\appdata\\local\\programs\\python\\python311\\lib\\site-packages (from requests->dash) (1.26.9)\n",
      "Requirement already satisfied: certifi>=2017.4.17 in c:\\users\\soura\\appdata\\local\\programs\\python\\python311\\lib\\site-packages (from requests->dash) (2022.6.15)\n",
      "Requirement already satisfied: six>=1.7.0 in c:\\users\\soura\\appdata\\roaming\\python\\python311\\site-packages (from retrying->dash) (1.16.0)\n",
      "Note: you may need to restart the kernel to use updated packages.\n"
     ]
    },
    {
     "name": "stderr",
     "output_type": "stream",
     "text": [
      "\n",
      "[notice] A new release of pip is available: 23.2.1 -> 24.0\n",
      "[notice] To update, run: python.exe -m pip install --upgrade pip\n"
     ]
    }
   ],
   "source": [
    "%pip install dash transformers"
   ]
  },
  {
   "cell_type": "code",
   "execution_count": 16,
   "metadata": {},
   "outputs": [
    {
     "name": "stdout",
     "output_type": "stream",
     "text": [
      "Requirement already satisfied: datasets in c:\\users\\soura\\appdata\\local\\programs\\python\\python311\\lib\\site-packages (2.16.0)\n",
      "Requirement already satisfied: filelock in c:\\users\\soura\\appdata\\local\\programs\\python\\python311\\lib\\site-packages (from datasets) (3.9.0)\n",
      "Requirement already satisfied: numpy>=1.17 in c:\\users\\soura\\appdata\\local\\programs\\python\\python311\\lib\\site-packages (from datasets) (1.24.2)\n",
      "Requirement already satisfied: pyarrow>=8.0.0 in c:\\users\\soura\\appdata\\local\\programs\\python\\python311\\lib\\site-packages (from datasets) (11.0.0)\n",
      "Requirement already satisfied: pyarrow-hotfix in c:\\users\\soura\\appdata\\local\\programs\\python\\python311\\lib\\site-packages (from datasets) (0.6)\n",
      "Requirement already satisfied: dill<0.3.8,>=0.3.0 in c:\\users\\soura\\appdata\\local\\programs\\python\\python311\\lib\\site-packages (from datasets) (0.3.7)\n",
      "Requirement already satisfied: pandas in c:\\users\\soura\\appdata\\local\\programs\\python\\python311\\lib\\site-packages (from datasets) (1.5.3)\n",
      "Requirement already satisfied: requests>=2.19.0 in c:\\users\\soura\\appdata\\local\\programs\\python\\python311\\lib\\site-packages (from datasets) (2.28.0)\n",
      "Requirement already satisfied: tqdm>=4.62.1 in c:\\users\\soura\\appdata\\local\\programs\\python\\python311\\lib\\site-packages (from datasets) (4.65.0)\n",
      "Requirement already satisfied: xxhash in c:\\users\\soura\\appdata\\local\\programs\\python\\python311\\lib\\site-packages (from datasets) (3.4.1)\n",
      "Requirement already satisfied: multiprocess in c:\\users\\soura\\appdata\\local\\programs\\python\\python311\\lib\\site-packages (from datasets) (0.70.15)\n",
      "Requirement already satisfied: fsspec[http]<=2023.10.0,>=2023.1.0 in c:\\users\\soura\\appdata\\local\\programs\\python\\python311\\lib\\site-packages (from datasets) (2023.10.0)\n",
      "Requirement already satisfied: aiohttp in c:\\users\\soura\\appdata\\local\\programs\\python\\python311\\lib\\site-packages (from datasets) (3.9.1)\n",
      "Requirement already satisfied: huggingface-hub>=0.19.4 in c:\\users\\soura\\appdata\\local\\programs\\python\\python311\\lib\\site-packages (from datasets) (0.20.1)\n",
      "Requirement already satisfied: packaging in c:\\users\\soura\\appdata\\roaming\\python\\python311\\site-packages (from datasets) (23.2)\n",
      "Requirement already satisfied: pyyaml>=5.1 in c:\\users\\soura\\appdata\\local\\programs\\python\\python311\\lib\\site-packages (from datasets) (6.0)\n",
      "Requirement already satisfied: attrs>=17.3.0 in c:\\users\\soura\\appdata\\local\\programs\\python\\python311\\lib\\site-packages (from aiohttp->datasets) (22.2.0)\n",
      "Requirement already satisfied: multidict<7.0,>=4.5 in c:\\users\\soura\\appdata\\local\\programs\\python\\python311\\lib\\site-packages (from aiohttp->datasets) (6.0.4)\n",
      "Requirement already satisfied: yarl<2.0,>=1.0 in c:\\users\\soura\\appdata\\local\\programs\\python\\python311\\lib\\site-packages (from aiohttp->datasets) (1.9.4)\n",
      "Requirement already satisfied: frozenlist>=1.1.1 in c:\\users\\soura\\appdata\\local\\programs\\python\\python311\\lib\\site-packages (from aiohttp->datasets) (1.4.1)\n",
      "Requirement already satisfied: aiosignal>=1.1.2 in c:\\users\\soura\\appdata\\local\\programs\\python\\python311\\lib\\site-packages (from aiohttp->datasets) (1.3.1)\n",
      "Requirement already satisfied: typing-extensions>=3.7.4.3 in c:\\users\\soura\\appdata\\local\\programs\\python\\python311\\lib\\site-packages (from huggingface-hub>=0.19.4->datasets) (4.5.0)\n",
      "Requirement already satisfied: charset-normalizer~=2.0.0 in c:\\users\\soura\\appdata\\local\\programs\\python\\python311\\lib\\site-packages (from requests>=2.19.0->datasets) (2.0.12)\n",
      "Requirement already satisfied: idna<4,>=2.5 in c:\\users\\soura\\appdata\\local\\programs\\python\\python311\\lib\\site-packages (from requests>=2.19.0->datasets) (3.3)\n",
      "Requirement already satisfied: urllib3<1.27,>=1.21.1 in c:\\users\\soura\\appdata\\local\\programs\\python\\python311\\lib\\site-packages (from requests>=2.19.0->datasets) (1.26.9)\n",
      "Requirement already satisfied: certifi>=2017.4.17 in c:\\users\\soura\\appdata\\local\\programs\\python\\python311\\lib\\site-packages (from requests>=2.19.0->datasets) (2022.6.15)\n",
      "Requirement already satisfied: colorama in c:\\users\\soura\\appdata\\roaming\\python\\python311\\site-packages (from tqdm>=4.62.1->datasets) (0.4.6)\n",
      "Requirement already satisfied: python-dateutil>=2.8.1 in c:\\users\\soura\\appdata\\roaming\\python\\python311\\site-packages (from pandas->datasets) (2.8.2)\n",
      "Requirement already satisfied: pytz>=2020.1 in c:\\users\\soura\\appdata\\local\\programs\\python\\python311\\lib\\site-packages (from pandas->datasets) (2022.7.1)\n",
      "Requirement already satisfied: six>=1.5 in c:\\users\\soura\\appdata\\roaming\\python\\python311\\site-packages (from python-dateutil>=2.8.1->pandas->datasets) (1.16.0)\n",
      "Note: you may need to restart the kernel to use updated packages.\n"
     ]
    },
    {
     "name": "stderr",
     "output_type": "stream",
     "text": [
      "\n",
      "[notice] A new release of pip is available: 23.2.1 -> 24.0\n",
      "[notice] To update, run: python.exe -m pip install --upgrade pip\n"
     ]
    }
   ],
   "source": [
    "%pip install datasets"
   ]
  },
  {
   "cell_type": "code",
   "execution_count": 17,
   "metadata": {},
   "outputs": [
    {
     "name": "stdout",
     "output_type": "stream",
     "text": [
      "Note: you may need to restart the kernel to use updated packages.\n"
     ]
    },
    {
     "name": "stderr",
     "output_type": "stream",
     "text": [
      "ERROR: Could not find a version that satisfies the requirement webbrowser (from versions: none)\n",
      "ERROR: No matching distribution found for webbrowser\n",
      "\n",
      "[notice] A new release of pip is available: 23.2.1 -> 24.0\n",
      "[notice] To update, run: python.exe -m pip install --upgrade pip\n"
     ]
    }
   ],
   "source": [
    "%pip install webbrowser"
   ]
  },
  {
   "cell_type": "code",
   "execution_count": 18,
   "metadata": {},
   "outputs": [],
   "source": [
    "import webbrowser"
   ]
  },
  {
   "cell_type": "code",
   "execution_count": 19,
   "metadata": {},
   "outputs": [
    {
     "name": "stdout",
     "output_type": "stream",
     "text": [
      "Requirement already satisfied: dash_daq in c:\\users\\soura\\appdata\\local\\programs\\python\\python311\\lib\\site-packages (0.5.0)\n",
      "Requirement already satisfied: dash>=1.6.1 in c:\\users\\soura\\appdata\\local\\programs\\python\\python311\\lib\\site-packages (from dash_daq) (2.14.2)\n",
      "Requirement already satisfied: Flask<3.1,>=1.0.4 in c:\\users\\soura\\appdata\\local\\programs\\python\\python311\\lib\\site-packages (from dash>=1.6.1->dash_daq) (2.3.3)\n",
      "Requirement already satisfied: Werkzeug<3.1 in c:\\users\\soura\\appdata\\local\\programs\\python\\python311\\lib\\site-packages (from dash>=1.6.1->dash_daq) (3.0.1)\n",
      "Requirement already satisfied: plotly>=5.0.0 in c:\\users\\soura\\appdata\\local\\programs\\python\\python311\\lib\\site-packages (from dash>=1.6.1->dash_daq) (5.18.0)\n",
      "Requirement already satisfied: dash-html-components==2.0.0 in c:\\users\\soura\\appdata\\local\\programs\\python\\python311\\lib\\site-packages (from dash>=1.6.1->dash_daq) (2.0.0)\n",
      "Requirement already satisfied: dash-core-components==2.0.0 in c:\\users\\soura\\appdata\\local\\programs\\python\\python311\\lib\\site-packages (from dash>=1.6.1->dash_daq) (2.0.0)\n",
      "Requirement already satisfied: dash-table==5.0.0 in c:\\users\\soura\\appdata\\local\\programs\\python\\python311\\lib\\site-packages (from dash>=1.6.1->dash_daq) (5.0.0)\n",
      "Requirement already satisfied: typing-extensions>=4.1.1 in c:\\users\\soura\\appdata\\local\\programs\\python\\python311\\lib\\site-packages (from dash>=1.6.1->dash_daq) (4.5.0)\n",
      "Requirement already satisfied: requests in c:\\users\\soura\\appdata\\local\\programs\\python\\python311\\lib\\site-packages (from dash>=1.6.1->dash_daq) (2.28.0)\n",
      "Requirement already satisfied: retrying in c:\\users\\soura\\appdata\\local\\programs\\python\\python311\\lib\\site-packages (from dash>=1.6.1->dash_daq) (1.3.4)\n",
      "Requirement already satisfied: ansi2html in c:\\users\\soura\\appdata\\local\\programs\\python\\python311\\lib\\site-packages (from dash>=1.6.1->dash_daq) (1.9.1)\n",
      "Requirement already satisfied: nest-asyncio in c:\\users\\soura\\appdata\\roaming\\python\\python311\\site-packages (from dash>=1.6.1->dash_daq) (1.5.8)\n",
      "Requirement already satisfied: setuptools in c:\\users\\soura\\appdata\\local\\programs\\python\\python311\\lib\\site-packages (from dash>=1.6.1->dash_daq) (65.5.0)\n",
      "Requirement already satisfied: importlib-metadata in c:\\users\\soura\\appdata\\local\\programs\\python\\python311\\lib\\site-packages (from dash>=1.6.1->dash_daq) (6.0.0)\n",
      "Requirement already satisfied: Jinja2>=3.1.2 in c:\\users\\soura\\appdata\\local\\programs\\python\\python311\\lib\\site-packages (from Flask<3.1,>=1.0.4->dash>=1.6.1->dash_daq) (3.1.2)\n",
      "Requirement already satisfied: itsdangerous>=2.1.2 in c:\\users\\soura\\appdata\\local\\programs\\python\\python311\\lib\\site-packages (from Flask<3.1,>=1.0.4->dash>=1.6.1->dash_daq) (2.1.2)\n",
      "Requirement already satisfied: click>=8.1.3 in c:\\users\\soura\\appdata\\local\\programs\\python\\python311\\lib\\site-packages (from Flask<3.1,>=1.0.4->dash>=1.6.1->dash_daq) (8.1.3)\n",
      "Requirement already satisfied: blinker>=1.6.2 in c:\\users\\soura\\appdata\\local\\programs\\python\\python311\\lib\\site-packages (from Flask<3.1,>=1.0.4->dash>=1.6.1->dash_daq) (1.7.0)\n",
      "Requirement already satisfied: tenacity>=6.2.0 in c:\\users\\soura\\appdata\\local\\programs\\python\\python311\\lib\\site-packages (from plotly>=5.0.0->dash>=1.6.1->dash_daq) (8.2.3)\n",
      "Requirement already satisfied: packaging in c:\\users\\soura\\appdata\\roaming\\python\\python311\\site-packages (from plotly>=5.0.0->dash>=1.6.1->dash_daq) (23.2)\n",
      "Requirement already satisfied: MarkupSafe>=2.1.1 in c:\\users\\soura\\appdata\\local\\programs\\python\\python311\\lib\\site-packages (from Werkzeug<3.1->dash>=1.6.1->dash_daq) (2.1.2)\n",
      "Requirement already satisfied: zipp>=0.5 in c:\\users\\soura\\appdata\\local\\programs\\python\\python311\\lib\\site-packages (from importlib-metadata->dash>=1.6.1->dash_daq) (3.15.0)\n",
      "Requirement already satisfied: charset-normalizer~=2.0.0 in c:\\users\\soura\\appdata\\local\\programs\\python\\python311\\lib\\site-packages (from requests->dash>=1.6.1->dash_daq) (2.0.12)\n",
      "Requirement already satisfied: idna<4,>=2.5 in c:\\users\\soura\\appdata\\local\\programs\\python\\python311\\lib\\site-packages (from requests->dash>=1.6.1->dash_daq) (3.3)\n",
      "Requirement already satisfied: urllib3<1.27,>=1.21.1 in c:\\users\\soura\\appdata\\local\\programs\\python\\python311\\lib\\site-packages (from requests->dash>=1.6.1->dash_daq) (1.26.9)\n",
      "Requirement already satisfied: certifi>=2017.4.17 in c:\\users\\soura\\appdata\\local\\programs\\python\\python311\\lib\\site-packages (from requests->dash>=1.6.1->dash_daq) (2022.6.15)\n",
      "Requirement already satisfied: six>=1.7.0 in c:\\users\\soura\\appdata\\roaming\\python\\python311\\site-packages (from retrying->dash>=1.6.1->dash_daq) (1.16.0)\n",
      "Requirement already satisfied: colorama in c:\\users\\soura\\appdata\\roaming\\python\\python311\\site-packages (from click>=8.1.3->Flask<3.1,>=1.0.4->dash>=1.6.1->dash_daq) (0.4.6)\n",
      "Note: you may need to restart the kernel to use updated packages.\n"
     ]
    },
    {
     "name": "stderr",
     "output_type": "stream",
     "text": [
      "\n",
      "[notice] A new release of pip is available: 23.2.1 -> 24.0\n",
      "[notice] To update, run: python.exe -m pip install --upgrade pip\n"
     ]
    }
   ],
   "source": [
    "%pip install dash_daq"
   ]
  },
  {
   "cell_type": "code",
   "execution_count": 20,
   "metadata": {},
   "outputs": [
    {
     "name": "stdout",
     "output_type": "stream",
     "text": [
      "Requirement already satisfied: dash_bootstrap_components in c:\\users\\soura\\appdata\\local\\programs\\python\\python311\\lib\\site-packages (1.5.0)\n",
      "Requirement already satisfied: dash>=2.0.0 in c:\\users\\soura\\appdata\\local\\programs\\python\\python311\\lib\\site-packages (from dash_bootstrap_components) (2.14.2)\n",
      "Requirement already satisfied: Flask<3.1,>=1.0.4 in c:\\users\\soura\\appdata\\local\\programs\\python\\python311\\lib\\site-packages (from dash>=2.0.0->dash_bootstrap_components) (2.3.3)\n",
      "Requirement already satisfied: Werkzeug<3.1 in c:\\users\\soura\\appdata\\local\\programs\\python\\python311\\lib\\site-packages (from dash>=2.0.0->dash_bootstrap_components) (3.0.1)\n",
      "Requirement already satisfied: plotly>=5.0.0 in c:\\users\\soura\\appdata\\local\\programs\\python\\python311\\lib\\site-packages (from dash>=2.0.0->dash_bootstrap_components) (5.18.0)\n",
      "Requirement already satisfied: dash-html-components==2.0.0 in c:\\users\\soura\\appdata\\local\\programs\\python\\python311\\lib\\site-packages (from dash>=2.0.0->dash_bootstrap_components) (2.0.0)\n",
      "Requirement already satisfied: dash-core-components==2.0.0 in c:\\users\\soura\\appdata\\local\\programs\\python\\python311\\lib\\site-packages (from dash>=2.0.0->dash_bootstrap_components) (2.0.0)\n",
      "Requirement already satisfied: dash-table==5.0.0 in c:\\users\\soura\\appdata\\local\\programs\\python\\python311\\lib\\site-packages (from dash>=2.0.0->dash_bootstrap_components) (5.0.0)\n",
      "Requirement already satisfied: typing-extensions>=4.1.1 in c:\\users\\soura\\appdata\\local\\programs\\python\\python311\\lib\\site-packages (from dash>=2.0.0->dash_bootstrap_components) (4.5.0)\n",
      "Requirement already satisfied: requests in c:\\users\\soura\\appdata\\local\\programs\\python\\python311\\lib\\site-packages (from dash>=2.0.0->dash_bootstrap_components) (2.28.0)\n",
      "Requirement already satisfied: retrying in c:\\users\\soura\\appdata\\local\\programs\\python\\python311\\lib\\site-packages (from dash>=2.0.0->dash_bootstrap_components) (1.3.4)\n",
      "Requirement already satisfied: ansi2html in c:\\users\\soura\\appdata\\local\\programs\\python\\python311\\lib\\site-packages (from dash>=2.0.0->dash_bootstrap_components) (1.9.1)\n",
      "Requirement already satisfied: nest-asyncio in c:\\users\\soura\\appdata\\roaming\\python\\python311\\site-packages (from dash>=2.0.0->dash_bootstrap_components) (1.5.8)\n",
      "Requirement already satisfied: setuptools in c:\\users\\soura\\appdata\\local\\programs\\python\\python311\\lib\\site-packages (from dash>=2.0.0->dash_bootstrap_components) (65.5.0)\n",
      "Requirement already satisfied: importlib-metadata in c:\\users\\soura\\appdata\\local\\programs\\python\\python311\\lib\\site-packages (from dash>=2.0.0->dash_bootstrap_components) (6.0.0)\n",
      "Requirement already satisfied: Jinja2>=3.1.2 in c:\\users\\soura\\appdata\\local\\programs\\python\\python311\\lib\\site-packages (from Flask<3.1,>=1.0.4->dash>=2.0.0->dash_bootstrap_components) (3.1.2)\n",
      "Requirement already satisfied: itsdangerous>=2.1.2 in c:\\users\\soura\\appdata\\local\\programs\\python\\python311\\lib\\site-packages (from Flask<3.1,>=1.0.4->dash>=2.0.0->dash_bootstrap_components) (2.1.2)\n",
      "Requirement already satisfied: click>=8.1.3 in c:\\users\\soura\\appdata\\local\\programs\\python\\python311\\lib\\site-packages (from Flask<3.1,>=1.0.4->dash>=2.0.0->dash_bootstrap_components) (8.1.3)\n",
      "Requirement already satisfied: blinker>=1.6.2 in c:\\users\\soura\\appdata\\local\\programs\\python\\python311\\lib\\site-packages (from Flask<3.1,>=1.0.4->dash>=2.0.0->dash_bootstrap_components) (1.7.0)\n",
      "Requirement already satisfied: tenacity>=6.2.0 in c:\\users\\soura\\appdata\\local\\programs\\python\\python311\\lib\\site-packages (from plotly>=5.0.0->dash>=2.0.0->dash_bootstrap_components) (8.2.3)\n",
      "Requirement already satisfied: packaging in c:\\users\\soura\\appdata\\roaming\\python\\python311\\site-packages (from plotly>=5.0.0->dash>=2.0.0->dash_bootstrap_components) (23.2)\n",
      "Requirement already satisfied: MarkupSafe>=2.1.1 in c:\\users\\soura\\appdata\\local\\programs\\python\\python311\\lib\\site-packages (from Werkzeug<3.1->dash>=2.0.0->dash_bootstrap_components) (2.1.2)\n",
      "Requirement already satisfied: zipp>=0.5 in c:\\users\\soura\\appdata\\local\\programs\\python\\python311\\lib\\site-packages (from importlib-metadata->dash>=2.0.0->dash_bootstrap_components) (3.15.0)\n",
      "Requirement already satisfied: charset-normalizer~=2.0.0 in c:\\users\\soura\\appdata\\local\\programs\\python\\python311\\lib\\site-packages (from requests->dash>=2.0.0->dash_bootstrap_components) (2.0.12)\n",
      "Requirement already satisfied: idna<4,>=2.5 in c:\\users\\soura\\appdata\\local\\programs\\python\\python311\\lib\\site-packages (from requests->dash>=2.0.0->dash_bootstrap_components) (3.3)\n",
      "Requirement already satisfied: urllib3<1.27,>=1.21.1 in c:\\users\\soura\\appdata\\local\\programs\\python\\python311\\lib\\site-packages (from requests->dash>=2.0.0->dash_bootstrap_components) (1.26.9)\n",
      "Requirement already satisfied: certifi>=2017.4.17 in c:\\users\\soura\\appdata\\local\\programs\\python\\python311\\lib\\site-packages (from requests->dash>=2.0.0->dash_bootstrap_components) (2022.6.15)\n",
      "Requirement already satisfied: six>=1.7.0 in c:\\users\\soura\\appdata\\roaming\\python\\python311\\site-packages (from retrying->dash>=2.0.0->dash_bootstrap_components) (1.16.0)\n",
      "Requirement already satisfied: colorama in c:\\users\\soura\\appdata\\roaming\\python\\python311\\site-packages (from click>=8.1.3->Flask<3.1,>=1.0.4->dash>=2.0.0->dash_bootstrap_components) (0.4.6)\n",
      "Note: you may need to restart the kernel to use updated packages.\n"
     ]
    },
    {
     "name": "stderr",
     "output_type": "stream",
     "text": [
      "\n",
      "[notice] A new release of pip is available: 23.2.1 -> 24.0\n",
      "[notice] To update, run: python.exe -m pip install --upgrade pip\n"
     ]
    }
   ],
   "source": [
    "%pip install dash_bootstrap_components"
   ]
  },
  {
   "cell_type": "code",
   "execution_count": 21,
   "metadata": {},
   "outputs": [
    {
     "name": "stdout",
     "output_type": "stream",
     "text": [
      "Note: you may need to restart the kernel to use updated packages.\n"
     ]
    },
    {
     "name": "stderr",
     "output_type": "stream",
     "text": [
      "ERROR: Could not find a version that satisfies the requirement shutil (from versions: none)\n",
      "ERROR: No matching distribution found for shutil\n",
      "\n",
      "[notice] A new release of pip is available: 23.2.1 -> 24.0\n",
      "[notice] To update, run: python.exe -m pip install --upgrade pip\n"
     ]
    }
   ],
   "source": [
    "%pip install shutil"
   ]
  },
  {
   "cell_type": "markdown",
   "metadata": {},
   "source": [
    "In this updated version, the benchmark_models function uses a multiprocessing pool to benchmark multiple models in parallel. The number of samples and the datasets to use are controlled by an input field and a checklist, respectively. The benchmark results are stored in a Dash Store and can be downloaded as a CSV file. The model stats are displayed in Bootstrap cards for a more polished look. It uses multiprocessing to benchmark models in parallel, allows users to select the number of samples and datasets for benchmarking, and provides a more polished look and feel for the dashboard."
   ]
  },
  {
   "cell_type": "code",
   "execution_count": 22,
   "metadata": {},
   "outputs": [
    {
     "name": "stdout",
     "output_type": "stream",
     "text": [
      "Requirement already satisfied: dash_extensions in c:\\users\\soura\\appdata\\local\\programs\\python\\python311\\lib\\site-packages (1.0.7)\n",
      "Requirement already satisfied: Flask-Caching==2.0.2 in c:\\users\\soura\\appdata\\local\\programs\\python\\python311\\lib\\site-packages (from dash_extensions) (2.0.2)\n",
      "Requirement already satisfied: dash>=2.9.3 in c:\\users\\soura\\appdata\\local\\programs\\python\\python311\\lib\\site-packages (from dash_extensions) (2.14.2)\n",
      "Requirement already satisfied: dataclass-wizard<0.23.0,>=0.22.2 in c:\\users\\soura\\appdata\\local\\programs\\python\\python311\\lib\\site-packages (from dash_extensions) (0.22.2)\n",
      "Requirement already satisfied: jsbeautifier<2.0.0,>=1.14.3 in c:\\users\\soura\\appdata\\local\\programs\\python\\python311\\lib\\site-packages (from dash_extensions) (1.14.11)\n",
      "Requirement already satisfied: more-itertools<10.0.0,>=9.0.0 in c:\\users\\soura\\appdata\\local\\programs\\python\\python311\\lib\\site-packages (from dash_extensions) (9.1.0)\n",
      "Requirement already satisfied: cachelib<0.10.0,>=0.9.0 in c:\\users\\soura\\appdata\\local\\programs\\python\\python311\\lib\\site-packages (from Flask-Caching==2.0.2->dash_extensions) (0.9.0)\n",
      "Requirement already satisfied: Flask<3 in c:\\users\\soura\\appdata\\local\\programs\\python\\python311\\lib\\site-packages (from Flask-Caching==2.0.2->dash_extensions) (2.3.3)\n",
      "Requirement already satisfied: Werkzeug<3.1 in c:\\users\\soura\\appdata\\local\\programs\\python\\python311\\lib\\site-packages (from dash>=2.9.3->dash_extensions) (3.0.1)\n",
      "Requirement already satisfied: plotly>=5.0.0 in c:\\users\\soura\\appdata\\local\\programs\\python\\python311\\lib\\site-packages (from dash>=2.9.3->dash_extensions) (5.18.0)\n",
      "Requirement already satisfied: dash-html-components==2.0.0 in c:\\users\\soura\\appdata\\local\\programs\\python\\python311\\lib\\site-packages (from dash>=2.9.3->dash_extensions) (2.0.0)\n",
      "Requirement already satisfied: dash-core-components==2.0.0 in c:\\users\\soura\\appdata\\local\\programs\\python\\python311\\lib\\site-packages (from dash>=2.9.3->dash_extensions) (2.0.0)\n",
      "Requirement already satisfied: dash-table==5.0.0 in c:\\users\\soura\\appdata\\local\\programs\\python\\python311\\lib\\site-packages (from dash>=2.9.3->dash_extensions) (5.0.0)\n",
      "Requirement already satisfied: typing-extensions>=4.1.1 in c:\\users\\soura\\appdata\\local\\programs\\python\\python311\\lib\\site-packages (from dash>=2.9.3->dash_extensions) (4.5.0)\n",
      "Requirement already satisfied: requests in c:\\users\\soura\\appdata\\local\\programs\\python\\python311\\lib\\site-packages (from dash>=2.9.3->dash_extensions) (2.28.0)\n",
      "Requirement already satisfied: retrying in c:\\users\\soura\\appdata\\local\\programs\\python\\python311\\lib\\site-packages (from dash>=2.9.3->dash_extensions) (1.3.4)\n",
      "Requirement already satisfied: ansi2html in c:\\users\\soura\\appdata\\local\\programs\\python\\python311\\lib\\site-packages (from dash>=2.9.3->dash_extensions) (1.9.1)\n",
      "Requirement already satisfied: nest-asyncio in c:\\users\\soura\\appdata\\roaming\\python\\python311\\site-packages (from dash>=2.9.3->dash_extensions) (1.5.8)\n",
      "Requirement already satisfied: setuptools in c:\\users\\soura\\appdata\\local\\programs\\python\\python311\\lib\\site-packages (from dash>=2.9.3->dash_extensions) (65.5.0)\n",
      "Requirement already satisfied: importlib-metadata in c:\\users\\soura\\appdata\\local\\programs\\python\\python311\\lib\\site-packages (from dash>=2.9.3->dash_extensions) (6.0.0)\n",
      "Requirement already satisfied: six>=1.13.0 in c:\\users\\soura\\appdata\\roaming\\python\\python311\\site-packages (from jsbeautifier<2.0.0,>=1.14.3->dash_extensions) (1.16.0)\n",
      "Requirement already satisfied: editorconfig>=0.12.2 in c:\\users\\soura\\appdata\\local\\programs\\python\\python311\\lib\\site-packages (from jsbeautifier<2.0.0,>=1.14.3->dash_extensions) (0.12.3)\n",
      "Requirement already satisfied: Jinja2>=3.1.2 in c:\\users\\soura\\appdata\\local\\programs\\python\\python311\\lib\\site-packages (from Flask<3->Flask-Caching==2.0.2->dash_extensions) (3.1.2)\n",
      "Requirement already satisfied: itsdangerous>=2.1.2 in c:\\users\\soura\\appdata\\local\\programs\\python\\python311\\lib\\site-packages (from Flask<3->Flask-Caching==2.0.2->dash_extensions) (2.1.2)\n",
      "Requirement already satisfied: click>=8.1.3 in c:\\users\\soura\\appdata\\local\\programs\\python\\python311\\lib\\site-packages (from Flask<3->Flask-Caching==2.0.2->dash_extensions) (8.1.3)\n",
      "Requirement already satisfied: blinker>=1.6.2 in c:\\users\\soura\\appdata\\local\\programs\\python\\python311\\lib\\site-packages (from Flask<3->Flask-Caching==2.0.2->dash_extensions) (1.7.0)\n",
      "Requirement already satisfied: tenacity>=6.2.0 in c:\\users\\soura\\appdata\\local\\programs\\python\\python311\\lib\\site-packages (from plotly>=5.0.0->dash>=2.9.3->dash_extensions) (8.2.3)\n",
      "Requirement already satisfied: packaging in c:\\users\\soura\\appdata\\roaming\\python\\python311\\site-packages (from plotly>=5.0.0->dash>=2.9.3->dash_extensions) (23.2)\n",
      "Requirement already satisfied: MarkupSafe>=2.1.1 in c:\\users\\soura\\appdata\\local\\programs\\python\\python311\\lib\\site-packages (from Werkzeug<3.1->dash>=2.9.3->dash_extensions) (2.1.2)\n",
      "Requirement already satisfied: zipp>=0.5 in c:\\users\\soura\\appdata\\local\\programs\\python\\python311\\lib\\site-packages (from importlib-metadata->dash>=2.9.3->dash_extensions) (3.15.0)\n",
      "Requirement already satisfied: charset-normalizer~=2.0.0 in c:\\users\\soura\\appdata\\local\\programs\\python\\python311\\lib\\site-packages (from requests->dash>=2.9.3->dash_extensions) (2.0.12)\n",
      "Requirement already satisfied: idna<4,>=2.5 in c:\\users\\soura\\appdata\\local\\programs\\python\\python311\\lib\\site-packages (from requests->dash>=2.9.3->dash_extensions) (3.3)\n",
      "Requirement already satisfied: urllib3<1.27,>=1.21.1 in c:\\users\\soura\\appdata\\local\\programs\\python\\python311\\lib\\site-packages (from requests->dash>=2.9.3->dash_extensions) (1.26.9)\n",
      "Requirement already satisfied: certifi>=2017.4.17 in c:\\users\\soura\\appdata\\local\\programs\\python\\python311\\lib\\site-packages (from requests->dash>=2.9.3->dash_extensions) (2022.6.15)\n",
      "Requirement already satisfied: colorama in c:\\users\\soura\\appdata\\roaming\\python\\python311\\site-packages (from click>=8.1.3->Flask<3->Flask-Caching==2.0.2->dash_extensions) (0.4.6)\n",
      "Note: you may need to restart the kernel to use updated packages.\n"
     ]
    },
    {
     "name": "stderr",
     "output_type": "stream",
     "text": [
      "\n",
      "[notice] A new release of pip is available: 23.2.1 -> 24.0\n",
      "[notice] To update, run: python.exe -m pip install --upgrade pip\n"
     ]
    }
   ],
   "source": [
    "%pip install dash_extensions"
   ]
  },
  {
   "cell_type": "code",
   "execution_count": 23,
   "metadata": {},
   "outputs": [],
   "source": [
    "import time\n",
    "import pandas as pd\n",
    "import dash\n",
    "import dash_core_components as dcc\n",
    "import dash_html_components as html\n",
    "import dash_bootstrap_components as dbc\n",
    "import dash_daq as daq\n",
    "from dash.dependencies import Input, Output\n",
    "from transformers import (\n",
    "    AutoTokenizer,\n",
    "    AutoModelForSeq2SeqLM,\n",
    "    AutoModelForCausalLM,\n",
    ")\n",
    "import plotly.express as px\n",
    "from datasets import load_dataset\n",
    "import webbrowser"
   ]
  },
  {
   "cell_type": "code",
   "execution_count": 24,
   "metadata": {},
   "outputs": [],
   "source": [
    "# Using a dark-themed Bootstrap style\n",
    "app = dash.Dash(__name__, external_stylesheets=[dbc.themes.DARKLY])"
   ]
  },
  {
   "cell_type": "code",
   "execution_count": 25,
   "metadata": {},
   "outputs": [
    {
     "name": "stderr",
     "output_type": "stream",
     "text": [
      "c:\\Users\\Soura\\AppData\\Local\\Programs\\Python\\Python311\\Lib\\site-packages\\transformers\\generation\\utils.py:1273: UserWarning:\n",
      "\n",
      "Neither `max_length` nor `max_new_tokens` has been set, `max_length` will default to 142 (`generation_config.max_length`). Controlling `max_length` via the config is deprecated and `max_length` will be removed from the config in v5 of Transformers -- we recommend using `max_new_tokens` to control the maximum length of the generation.\n",
      "\n",
      "c:\\Users\\Soura\\AppData\\Local\\Programs\\Python\\Python311\\Lib\\site-packages\\transformers\\models\\t5\\tokenization_t5_fast.py:155: FutureWarning:\n",
      "\n",
      "This tokenizer was incorrectly instantiated with a model max length of 512 which will be corrected in Transformers v5.\n",
      "For now, this behavior is kept to avoid breaking backwards compatibility when padding/encoding with `truncation is True`.\n",
      "- Be aware that you SHOULD NOT rely on t5-base automatically truncating your input to 512 when padding/encoding.\n",
      "- If you want to encode/pad to sequences longer than 512 you can either instantiate this tokenizer with `model_max_length` or pass `max_length` when encoding/padding.\n",
      "- To avoid this warning, please instantiate this tokenizer with `model_max_length` set to your preferred value.\n",
      "\n",
      "c:\\Users\\Soura\\AppData\\Local\\Programs\\Python\\Python311\\Lib\\site-packages\\transformers\\generation\\utils.py:1273: UserWarning:\n",
      "\n",
      "Neither `max_length` nor `max_new_tokens` has been set, `max_length` will default to 20 (`generation_config.max_length`). Controlling `max_length` via the config is deprecated and `max_length` will be removed from the config in v5 of Transformers -- we recommend using `max_new_tokens` to control the maximum length of the generation.\n",
      "\n",
      "The attention mask and the pad token id were not set. As a consequence, you may observe unexpected behavior. Please pass your input's `attention_mask` to obtain reliable results.\n",
      "Setting `pad_token_id` to `eos_token_id`:50256 for open-end generation.\n",
      "The attention mask and the pad token id were not set. As a consequence, you may observe unexpected behavior. Please pass your input's `attention_mask` to obtain reliable results.\n",
      "Setting `pad_token_id` to `eos_token_id`:50256 for open-end generation.\n",
      "Input length of input_ids is 36, but `max_length` is set to 20. This can lead to unexpected behavior. You should consider increasing `max_new_tokens`.\n",
      "The attention mask and the pad token id were not set. As a consequence, you may observe unexpected behavior. Please pass your input's `attention_mask` to obtain reliable results.\n",
      "Setting `pad_token_id` to `eos_token_id`:50256 for open-end generation.\n",
      "Input length of input_ids is 23, but `max_length` is set to 20. This can lead to unexpected behavior. You should consider increasing `max_new_tokens`.\n",
      "The attention mask and the pad token id were not set. As a consequence, you may observe unexpected behavior. Please pass your input's `attention_mask` to obtain reliable results.\n",
      "Setting `pad_token_id` to `eos_token_id`:50256 for open-end generation.\n",
      "The attention mask and the pad token id were not set. As a consequence, you may observe unexpected behavior. Please pass your input's `attention_mask` to obtain reliable results.\n",
      "Setting `pad_token_id` to `eos_token_id`:50256 for open-end generation.\n",
      "Input length of input_ids is 21, but `max_length` is set to 20. This can lead to unexpected behavior. You should consider increasing `max_new_tokens`.\n",
      "The attention mask and the pad token id were not set. As a consequence, you may observe unexpected behavior. Please pass your input's `attention_mask` to obtain reliable results.\n",
      "Setting `pad_token_id` to `eos_token_id`:50256 for open-end generation.\n",
      "The attention mask and the pad token id were not set. As a consequence, you may observe unexpected behavior. Please pass your input's `attention_mask` to obtain reliable results.\n",
      "Setting `pad_token_id` to `eos_token_id`:50256 for open-end generation.\n",
      "Input length of input_ids is 29, but `max_length` is set to 20. This can lead to unexpected behavior. You should consider increasing `max_new_tokens`.\n",
      "The attention mask and the pad token id were not set. As a consequence, you may observe unexpected behavior. Please pass your input's `attention_mask` to obtain reliable results.\n",
      "Setting `pad_token_id` to `eos_token_id`:50256 for open-end generation.\n",
      "Input length of input_ids is 37, but `max_length` is set to 20. This can lead to unexpected behavior. You should consider increasing `max_new_tokens`.\n",
      "The attention mask and the pad token id were not set. As a consequence, you may observe unexpected behavior. Please pass your input's `attention_mask` to obtain reliable results.\n",
      "Setting `pad_token_id` to `eos_token_id`:50256 for open-end generation.\n",
      "Input length of input_ids is 21, but `max_length` is set to 20. This can lead to unexpected behavior. You should consider increasing `max_new_tokens`.\n",
      "The attention mask and the pad token id were not set. As a consequence, you may observe unexpected behavior. Please pass your input's `attention_mask` to obtain reliable results.\n",
      "Setting `pad_token_id` to `eos_token_id`:50256 for open-end generation.\n",
      "If you want to use `BertLMHeadModel` as a standalone, add `is_decoder=True.`\n",
      "Some weights of the model checkpoint at bert-base-uncased were not used when initializing BertLMHeadModel: ['cls.seq_relationship.weight', 'cls.seq_relationship.bias']\n",
      "- This IS expected if you are initializing BertLMHeadModel from the checkpoint of a model trained on another task or with another architecture (e.g. initializing a BertForSequenceClassification model from a BertForPreTraining model).\n",
      "- This IS NOT expected if you are initializing BertLMHeadModel from the checkpoint of a model that you expect to be exactly identical (initializing a BertForSequenceClassification model from a BertForSequenceClassification model).\n",
      "Input length of input_ids is 39, but `max_length` is set to 20. This can lead to unexpected behavior. You should consider increasing `max_new_tokens`.\n",
      "Input length of input_ids is 24, but `max_length` is set to 20. This can lead to unexpected behavior. You should consider increasing `max_new_tokens`.\n",
      "Input length of input_ids is 24, but `max_length` is set to 20. This can lead to unexpected behavior. You should consider increasing `max_new_tokens`.\n",
      "Input length of input_ids is 32, but `max_length` is set to 20. This can lead to unexpected behavior. You should consider increasing `max_new_tokens`.\n",
      "Input length of input_ids is 38, but `max_length` is set to 20. This can lead to unexpected behavior. You should consider increasing `max_new_tokens`.\n",
      "Input length of input_ids is 24, but `max_length` is set to 20. This can lead to unexpected behavior. You should consider increasing `max_new_tokens`.\n",
      "If you want to use `BertLMHeadModel` as a standalone, add `is_decoder=True.`\n",
      "Some weights of the model checkpoint at bert-base-cased were not used when initializing BertLMHeadModel: ['cls.seq_relationship.weight', 'cls.seq_relationship.bias']\n",
      "- This IS expected if you are initializing BertLMHeadModel from the checkpoint of a model trained on another task or with another architecture (e.g. initializing a BertForSequenceClassification model from a BertForPreTraining model).\n",
      "- This IS NOT expected if you are initializing BertLMHeadModel from the checkpoint of a model that you expect to be exactly identical (initializing a BertForSequenceClassification model from a BertForSequenceClassification model).\n",
      "Input length of input_ids is 42, but `max_length` is set to 20. This can lead to unexpected behavior. You should consider increasing `max_new_tokens`.\n",
      "Input length of input_ids is 25, but `max_length` is set to 20. This can lead to unexpected behavior. You should consider increasing `max_new_tokens`.\n",
      "Input length of input_ids is 24, but `max_length` is set to 20. This can lead to unexpected behavior. You should consider increasing `max_new_tokens`.\n",
      "Input length of input_ids is 32, but `max_length` is set to 20. This can lead to unexpected behavior. You should consider increasing `max_new_tokens`.\n",
      "Input length of input_ids is 39, but `max_length` is set to 20. This can lead to unexpected behavior. You should consider increasing `max_new_tokens`.\n",
      "Input length of input_ids is 26, but `max_length` is set to 20. This can lead to unexpected behavior. You should consider increasing `max_new_tokens`.\n"
     ]
    }
   ],
   "source": [
    "# Models used for benchmarking\n",
    "MODELS = [\"facebook/bart-large-cnn\", \"t5-base\", \"gpt2\", \"bert-base-uncased\", \"bert-base-cased\"]\n",
    "\n",
    "# Loading the datasets\n",
    "DATASET = load_dataset('sst2')['test'] #'glue'and 'yelp_polarity' are also used\n",
    "\n",
    "def benchmark_models(models, dataset, num_samples=10):\n",
    "    results = []\n",
    "\n",
    "    for model_name in models:\n",
    "        tokenizer = AutoTokenizer.from_pretrained(model_name)\n",
    "        if \"bart\" in model_name or \"t5\" in model_name:\n",
    "            model = AutoModelForSeq2SeqLM.from_pretrained(model_name)\n",
    "        else:\n",
    "            model = AutoModelForCausalLM.from_pretrained(model_name)\n",
    "\n",
    "        for i in range(num_samples):\n",
    "            prompt = dataset[i]['sentence']\n",
    "            input_ids = tokenizer.encode(prompt, return_tensors=\"pt\")\n",
    "            start_time = time.time()\n",
    "            output = model.generate(input_ids)\n",
    "            generation_time = time.time() - start_time\n",
    "\n",
    "            # Adding results to the list\n",
    "            results.append({\n",
    "                \"Model\": model_name,\n",
    "                \"Prompt\": prompt,\n",
    "                \"Generation Time (s)\": generation_time,\n",
    "                \"Token Length\": len(input_ids[0]),\n",
    "            })\n",
    "\n",
    "    return pd.DataFrame(results)\n",
    "\n",
    "# Benchmarking the models and store the results\n",
    "BENCHMARK_RESULTS = benchmark_models(MODELS, DATASET)"
   ]
  },
  {
   "cell_type": "code",
   "execution_count": 26,
   "metadata": {},
   "outputs": [],
   "source": [
    "# Creating the layout of the dashboard\n",
    "app.layout = html.Div(children=[\n",
    "    html.H1(children=\"LLM Evaluation Dashboard\", style={'text-align': 'center', 'margin-bottom': '30px'}),\n",
    "    \n",
    "    # Displaying the model names\n",
    "    html.Div([\n",
    "        html.Strong(model, style={'color': f'{px.colors.qualitative.Plotly[i]}', 'margin-right': '10px'}) for i, model in enumerate(MODELS)\n",
    "    ], style={'text-align': 'center', 'margin-bottom': '20px'}),\n",
    "    \n",
    "    html.H4(\"Corpora Used for Evaluation:\", style={'text-align': 'center'}),\n",
    "    \n",
    "    # Displaying the datasets\n",
    "    html.Div([\n",
    "        html.Div([html.Strong(dataset_name, style={'background-color': 'yellow', 'padding': '3px', 'border-radius': '5px'})]) for dataset_name in ['glue', 'sst2', 'yelp_polarity']\n",
    "    ], style={'text-align': 'center', 'margin-bottom': '20px'}),\n",
    "    \n",
    "    # Model selection dropdowns\n",
    "    html.Div([\n",
    "        dcc.Dropdown(\n",
    "            id=\"model-dropdown\",\n",
    "            options=[{\"label\": m, \"value\": m} for m in MODELS],\n",
    "            value=MODELS,\n",
    "            multi=True\n",
    "        ),\n",
    "        html.Label(\"Select Models:\", style={'margin-top': '10px'}),\n",
    "    ], style={'width': '50%', 'display': 'inline-block'}),\n",
    "    \n",
    "    # Sub-heading for the range slider\n",
    "    html.H4(\"Select Token Length Range:\", style={'text-align': 'center', 'margin-top': '30px'}),\n",
    "\n",
    "    # Range slider\n",
    "    dcc.RangeSlider(\n",
    "        id='range-slider',\n",
    "        min=0,\n",
    "        max=max(BENCHMARK_RESULTS['Token Length']),\n",
    "        step=1,\n",
    "        value=[0, max(BENCHMARK_RESULTS['Token Length'])]\n",
    "    ),\n",
    "    \n",
    "    # Sub-heading for the range slider\n",
    "    html.H4(\"Generation Stats:\", style={'text-align': 'center', 'margin-top': '30px'}),\n",
    "    \n",
    "    # Performance summary statistics\n",
    "    html.Div(id='model-stats-container', style={'margin-top': '20px', 'display': 'flex', 'flex-wrap': 'wrap'}),\n",
    "    \n",
    "    # Main plots\n",
    "    dcc.Graph(id=\"time-bar-chart\"),\n",
    "    dcc.Graph(id=\"token-length-scatter\"),\n",
    "    dcc.Graph(id=\"generation-time-boxplot\"),\n",
    "    dcc.Graph(id=\"token-length-histogram\"),\n",
    "    dcc.Graph(id=\"generation-time-parallel-coordinates\"),\n",
    "    \n",
    "    # Additional advanced plots\n",
    "    dcc.Graph(id=\"3d-scatter-plot\"),\n",
    "    \n",
    "    # Runtime Complexity Plot as line plots\n",
    "    dcc.Graph(id=\"runtime-complexity-plot\"),\n",
    "\n",
    "    # Developer (my) name\n",
    "    html.Div(\"✨ Sourav Das • 2024 ✨\", style={'text-align': 'center', 'margin-bottom': '20px'}),\n",
    "])\n",
    "\n",
    "# Callback functions for interactive updates\n",
    "@app.callback(\n",
    "    Output(\"time-bar-chart\", \"figure\"),\n",
    "    Output(\"token-length-scatter\", \"figure\"),\n",
    "    Output(\"generation-time-boxplot\", \"figure\"),\n",
    "    Output(\"token-length-histogram\", \"figure\"),\n",
    "    Output(\"generation-time-parallel-coordinates\", \"figure\"),\n",
    "    Output(\"3d-scatter-plot\", \"figure\"),\n",
    "    Output(\"runtime-complexity-plot\", \"figure\"),\n",
    "    Output('model-stats-container', 'children'),\n",
    "    Input(\"model-dropdown\", \"value\"),\n",
    "    Input(\"range-slider\", \"value\"),\n",
    "    )\n",
    "def update_graphs(selected_models, selected_range):\n",
    "    filtered_data = BENCHMARK_RESULTS[\n",
    "        (BENCHMARK_RESULTS[\"Model\"].isin(selected_models))\n",
    "        & (BENCHMARK_RESULTS[\"Token Length\"].between(selected_range[0], selected_range[1]))\n",
    "    ]\n",
    "    \n",
    "    # Creating the figures for each graph using filtered_data\n",
    "    time_bar_chart_figure = px.bar(\n",
    "        filtered_data,\n",
    "        x='Model',\n",
    "        y='Generation Time (s)',\n",
    "        title='• Average Generation Time for Comparing Models:',\n",
    "        labels={'Generation Time (s)': 'Average Generation Time (s)'},\n",
    "        color='Model'\n",
    "    )\n",
    "    time_bar_chart_figure.update_layout(template='plotly_dark')\n",
    "\n",
    "    token_length_scatter_figure = px.scatter(\n",
    "        filtered_data,\n",
    "        x='Model',\n",
    "        y='Token Length',\n",
    "        title='• Token Length for Comparing Models and Prompts:',\n",
    "        labels={'Token Length': 'Token Length'},\n",
    "        color='Model',\n",
    "        range_y=selected_range\n",
    "    )\n",
    "    token_length_scatter_figure.update_layout(template='plotly_dark')\n",
    "\n",
    "    generation_time_boxplot_figure = px.box(\n",
    "        filtered_data,\n",
    "        x='Model',\n",
    "        y='Generation Time (s)',\n",
    "        title='• Generation Time Comparison for Models:',\n",
    "        labels={'Generation Time (s)': 'Generation Time (s)'},\n",
    "        color='Model'\n",
    "    )\n",
    "    generation_time_boxplot_figure.update_layout(template='plotly_dark')\n",
    "\n",
    "    token_length_histogram_figure = px.histogram(\n",
    "        filtered_data,\n",
    "        x='Token Length',\n",
    "        title='• Token Length Histogram for Comparing Models and Prompts:',\n",
    "        labels={'Token Length': 'Token Length', 'count': 'Frequency'},\n",
    "        color='Model',\n",
    "        nbins=selected_range[1] - selected_range[0]\n",
    "    )\n",
    "    token_length_histogram_figure.update_layout(template='plotly_dark')\n",
    "\n",
    "    generation_time_parallel_coordinates_figure = px.parallel_coordinates(\n",
    "        filtered_data,\n",
    "        dimensions=['Model', 'Prompt', 'Generation Time (s)', 'Token Length'],\n",
    "        color='Generation Time (s)',\n",
    "        title='• Parallel Coordinates Plot for Generation Time:',\n",
    "        labels={'Generation Time (s)': 'Generation Time (s)', 'Token Length': 'Token Length'}\n",
    "    )\n",
    "    generation_time_parallel_coordinates_figure.update_layout(template='plotly_dark')\n",
    "\n",
    "    scatter_3d_figure = px.scatter_3d(\n",
    "        filtered_data,\n",
    "        x='Token Length',\n",
    "        y='Generation Time (s)',\n",
    "        z='Model',\n",
    "        color='Model',\n",
    "        title='• Token Length vs. Generation Time for Comparing Models:',\n",
    "        labels={'Token Length': 'Token Length', 'Generation Time (s)': 'Generation Time (s)'}\n",
    "    )\n",
    "    scatter_3d_figure.update_layout(template='plotly_dark')\n",
    "\n",
    "    runtime_complexity_plot = px.line(\n",
    "        filtered_data,\n",
    "        x='Token Length',\n",
    "        y='Generation Time (s)',\n",
    "        color='Model',\n",
    "        labels={'Token Length': 'Token Length', 'Generation Time (s)': 'Generation Time (s)'},\n",
    "        title='• Runtime Complexity Plot for Comparing Models:',\n",
    "    )\n",
    "    runtime_complexity_plot.update_layout(template='plotly_dark')\n",
    "\n",
    "    # Model stats\n",
    "    model_stats = []\n",
    "    colors = ['#1f77b4', '#ff7f0e', '#2ca02c', '#d62728', '#9467bd']\n",
    "\n",
    "    for i, model in enumerate(selected_models):\n",
    "        model_data = filtered_data[filtered_data['Model'] == model]\n",
    "        avg_gen_time = model_data['Generation Time (s)'].mean()\n",
    "        max_token_len = model_data['Token Length'].max()\n",
    "\n",
    "        stats_card = html.Div([\n",
    "            html.H4([html.Strong(f\"{model} Stats:\", style={'color': colors[i]})]),\n",
    "            html.P(f\"Avg Gen Time = {avg_gen_time:.2f}s\"),\n",
    "            html.P(f\"Max Token Len = {max_token_len}\")\n",
    "        ], style={'border': '2px solid #ddd', 'padding': '10px', 'margin': '10px', 'border-radius': '5px', 'flex': '0 0 30%', 'background-color': colors[i]})\n",
    "\n",
    "        model_stats.append(stats_card)\n",
    "\n",
    "    return (\n",
    "        time_bar_chart_figure,\n",
    "        token_length_scatter_figure,\n",
    "        generation_time_boxplot_figure,\n",
    "        token_length_histogram_figure,\n",
    "        generation_time_parallel_coordinates_figure,\n",
    "        scatter_3d_figure,\n",
    "        runtime_complexity_plot,\n",
    "        model_stats\n",
    "    )"
   ]
  },
  {
   "cell_type": "code",
   "execution_count": null,
   "metadata": {},
   "outputs": [],
   "source": [
    "# Displaying the dashboard from browser\n",
    "if __name__ == '__main__':\n",
    "    webbrowser.open_new_tab('http://localhost:8050/')\n",
    "    app.run_server(debug=True, port=8050)"
   ]
  }
 ],
 "metadata": {
  "kernelspec": {
   "display_name": "Python 3",
   "language": "python",
   "name": "python3"
  },
  "language_info": {
   "codemirror_mode": {
    "name": "ipython",
    "version": 3
   },
   "file_extension": ".py",
   "mimetype": "text/x-python",
   "name": "python",
   "nbconvert_exporter": "python",
   "pygments_lexer": "ipython3",
   "version": "3.11.7"
  }
 },
 "nbformat": 4,
 "nbformat_minor": 2
}
